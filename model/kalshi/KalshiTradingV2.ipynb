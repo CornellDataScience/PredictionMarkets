{
 "cells": [
  {
   "cell_type": "code",
   "execution_count": 2,
   "metadata": {},
   "outputs": [
    {
     "data": {
      "text/plain": [
       "True"
      ]
     },
     "execution_count": 2,
     "metadata": {},
     "output_type": "execute_result"
    }
   ],
   "source": [
    "# Welcome to the Kalshi REST v2 Starter Code!\n",
    "\n",
    "# pypi client: recommended for more advanced programmers\n",
    "\n",
    "# starter client: recommended for all levels of programming experience (what this client is implemented using)\n",
    "from KalshiClientsBaseV2 import ExchangeClient\n",
    "import time\n",
    "import json\n",
    "import uuid\n",
    "import os\n",
    "from dotenv import load_dotenv\n",
    "\n",
    "load_dotenv()  # Make sure this points to the correct path if .env isn't in the root directory"
   ]
  },
  {
   "cell_type": "code",
   "execution_count": 5,
   "metadata": {},
   "outputs": [
    {
     "name": "stdout",
     "output_type": "stream",
     "text": [
      "{'exchange_active': True, 'trading_active': False}\n"
     ]
    }
   ],
   "source": [
    "# To start off, you need to have created an account at https://kalshi.com (Production) \n",
    "# or an account on the Demo https://demo.kalshi.co/\n",
    "\n",
    "prod_email = os.getenv(\"EMAIL\") # change these to be your personal credentials\n",
    "prod_password = os.getenv(\"PASSWORD\")  # (for extra security, we recommend using a config file)\n",
    "\n",
    "demo_email = \"\" # change these to be your personal credentials\n",
    "demo_password = \"\" # (for extra security, we recommend using a config file)\n",
    "\n",
    "# for prod\n",
    "prod_api_base = \"https://trading-api.kalshi.com/trade-api/v2\"\n",
    "\n",
    "# for demo\n",
    "demo_api_base = \"https://demo-api.kalshi.co/trade-api/v2\"\n",
    "\n",
    "## if wanting to test in prod:\n",
    "exchange_client = ExchangeClient(exchange_api_base=prod_api_base, email = prod_email, password = prod_password)\n",
    "\n",
    "## if wanting to test in demo\n",
    "# exchange_client = ExchangeClient(exchange_api_base = demo_api_base, email = demo_email, password = demo_password)\n",
    "\n",
    "# first we will check on the exchange status to confirm you are properly connected...\n",
    "print(exchange_client.get_exchange_status())"
   ]
  },
  {
   "cell_type": "code",
   "execution_count": null,
   "metadata": {},
   "outputs": [],
   "source": []
  },
  {
   "cell_type": "code",
   "execution_count": 6,
   "metadata": {
    "tags": []
   },
   "outputs": [
    {
     "name": "stdout",
     "output_type": "stream",
     "text": [
      "keys: dict_keys(['markets', 'cursor'])\n",
      "\n",
      "number of objects: 100\n",
      "\n",
      "first market in payload: {'ticker': 'RTCHRISTMASPAGEANT-85', 'event_ticker': 'RTCHRISTMASPAGEANT', 'market_type': 'binary', 'title': 'The Best Christmas Pageant Ever Rotten Tomatoes score?', 'subtitle': 'Above 85', 'yes_sub_title': 'Above 85', 'no_sub_title': 'Above 85', 'open_time': '2024-11-04T19:00:00Z', 'close_time': '2024-11-11T15:00:00Z', 'expected_expiration_time': '2024-11-11T15:00:00Z', 'expiration_time': '2024-11-18T15:00:00Z', 'latest_expiration_time': '2024-11-18T15:00:00Z', 'settlement_timer_seconds': 3598, 'status': 'active', 'response_price_units': 'usd_cent', 'notional_value': 100, 'tick_size': 1, 'yes_bid': 84, 'yes_ask': 85, 'no_bid': 15, 'no_ask': 16, 'last_price': 84, 'previous_yes_bid': 72, 'previous_yes_ask': 81, 'previous_price': 71, 'volume': 3138, 'volume_24h': 5, 'liquidity': 713926, 'open_interest': 1196, 'result': '', 'can_close_early': True, 'expiration_value': '', 'category': 'Entertainment', 'risk_limit_cents': 0, 'strike_type': 'greater', 'floor_strike': 85, 'rules_primary': 'If The Best Christmas Pageant Ever has a Tomatometer score of above 85 on Nov 11, 2024 at 10:00AM ET, then the market resolves to Yes.', 'rules_secondary': 'The \"Fresh!\" and \"Certified Fresh!\" subtitles are meant for illustrative purposes only.'}\n",
      "\n",
      "cursor: CgsIp6HiuAYQkL77OhIYTkFTREFRMTAwLTI0T0NUMjMtQjIxMDUw\n"
     ]
    }
   ],
   "source": [
    "# You can discover markets through the get_markets endpoint...\n",
    "\n",
    "# and use query parameters to filter your search!\n",
    "market_params = {'limit':100,\n",
    "                    'cursor':None, # passing in the cursor from the previous get_markets call\n",
    "                    'event_ticker': None,\n",
    "                    'series_ticker':None,\n",
    "                    'max_close_ts':None, # pass in unix_ts\n",
    "                    'min_close_ts':None, # pass in unix_ts\n",
    "                    'status':None,\n",
    "                    'tickers':None}\n",
    "\n",
    "markets_response = exchange_client.get_markets(**market_params)\n",
    "cursor = markets_response['cursor']\n",
    "\n",
    "print('keys:', markets_response.keys())\n",
    "print()\n",
    "print('number of objects:', len(markets_response['markets'])) # 100 objects!\n",
    "print()\n",
    "print('first market in payload:', markets_response['markets'][0])\n",
    "print()\n",
    "print('cursor:', cursor)"
   ]
  },
  {
   "cell_type": "code",
   "execution_count": 8,
   "metadata": {},
   "outputs": [
    {
     "name": "stdout",
     "output_type": "stream",
     "text": [
      "keys: dict_keys(['markets', 'cursor'])\n",
      "\n",
      "number of objects: 100\n",
      "\n",
      "first market in market_response payload: {'ticker': 'INX-24OCT23-B5762', 'event_ticker': 'INX-24OCT23', 'market_type': 'binary', 'title': 'Will the S&P 500 be between 5750 and 5774.99 at the end of Oct 23, 2024?', 'subtitle': '5,750 to 5,774.99', 'yes_sub_title': '5,750 to 5,774.99', 'no_sub_title': '5,750 to 5,774.99', 'open_time': '2024-10-23T06:00:00Z', 'close_time': '2024-10-23T20:00:00Z', 'expected_expiration_time': '2024-10-23T23:00:00Z', 'expiration_time': '2024-10-30T23:00:00Z', 'latest_expiration_time': '2024-10-30T23:00:00Z', 'settlement_timer_seconds': 3600, 'status': 'finalized', 'response_price_units': 'usd_cent', 'notional_value': 100, 'tick_size': 1, 'yes_bid': 0, 'yes_ask': 5, 'no_bid': 95, 'no_ask': 100, 'last_price': 2, 'previous_yes_bid': 0, 'previous_yes_ask': 5, 'previous_price': 2, 'volume': 8362, 'volume_24h': 0, 'liquidity': 0, 'open_interest': 1959, 'result': 'no', 'settlement_value': 0, 'can_close_early': True, 'expiration_value': '', 'category': 'Financials', 'risk_limit_cents': 0, 'strike_type': 'between', 'floor_strike': 5750, 'cap_strike': 5774.99, 'rules_primary': 'If the end-of-day S&P 500 index value for October 23, 2024 is between 5750-5774.99, then the market resolves to Yes.', 'rules_secondary': 'The market will expire at the sooner of the first 7:00 PM ET after the release of the data, or one week after October 23, 2024.\\n\\nPursuant to the Kalshi Rulebook, the Exchange has modified the Source Agency and Underlying for indices markets. See the rules for more information.'}\n",
      "\n",
      "new cursor! CgwI8J_iuAYQgKGLwwMSE0VUSC0yNE9DVDIzMTctQjMxMDA\n"
     ]
    }
   ],
   "source": [
    "# What are cursors and how do they work?\n",
    "    \n",
    "# The Cursor represents a pointer to the next page of records in the pagination.\n",
    "# So this optional parameter, when filled, should be filled with the cursor string returned in a previous request to this end-point.\n",
    "# Filling this would basically tell the api to get the next page containing the number of records passed on the limit parameter.\n",
    "# On the other side not filling it tells the api you want to get the first page for another query.\n",
    "# The cursor does not store any filters, so if any filter parameters like tickers, max_ts or min_ts were passed in the original query they must be passed again.\n",
    "\n",
    "# Let's try it in action! Suppose we wanted to get the next 100 market objects...\n",
    "\n",
    "market_params = {'limit':100,\n",
    "                    'cursor':cursor, # passing in the cursor from the previous get_markets call\n",
    "                    'event_ticker': None,\n",
    "                    'series_ticker': None,\n",
    "                    'max_close_ts': None, # pass in unix_ts\n",
    "                    'min_close_ts': None, # pass in unix_ts\n",
    "                    'status': None,\n",
    "                    'tickers':None}\n",
    "\n",
    "markets_response = exchange_client.get_markets(**market_params)\n",
    "cursor = markets_response['cursor']        \n",
    "\n",
    "print('keys:', markets_response.keys())\n",
    "print()\n",
    "print('number of objects:', len(markets_response['markets'])) # 100 objects!\n",
    "print()\n",
    "print('first market in market_response payload:', markets_response['markets'][0]) # new markets!\n",
    "print()\n",
    "print('new cursor!', cursor)"
   ]
  },
  {
   "cell_type": "code",
   "execution_count": 54,
   "metadata": {},
   "outputs": [
    {
     "name": "stdout",
     "output_type": "stream",
     "text": [
      "keys: dict_keys(['event', 'markets'])\n",
      "\n",
      "event object: {'event_ticker': 'NASDAQ100-24OCT23', 'series_ticker': 'NASDAQ100', 'sub_title': 'On Oct 23, 2024', 'title': 'Nasdaq close price range on Oct 23, 2024?', 'mutually_exclusive': True, 'category': 'Financials', 'strike_date': '2024-10-23T20:00:00Z'}\n",
      "\n",
      "first market in event_response payload: {'ticker': 'NASDAQ100-24OCT23-T18900', 'event_ticker': 'NASDAQ100-24OCT23', 'market_type': 'binary', 'title': '', 'subtitle': '18,899.99 or below', 'yes_sub_title': '18,899.99 or below', 'no_sub_title': '18,899.99 or below', 'open_time': '2024-10-23T06:00:00Z', 'close_time': '2024-10-23T20:00:00Z', 'expected_expiration_time': '2024-10-23T23:00:00Z', 'expiration_time': '2024-10-30T23:00:00Z', 'latest_expiration_time': '2024-10-30T23:00:00Z', 'settlement_timer_seconds': 3600, 'status': 'finalized', 'response_price_units': 'usd_cent', 'notional_value': 100, 'tick_size': 1, 'yes_bid': 0, 'yes_ask': 100, 'no_bid': 0, 'no_ask': 100, 'last_price': 0, 'previous_yes_bid': 0, 'previous_yes_ask': 0, 'previous_price': 0, 'volume': 0, 'volume_24h': 0, 'liquidity': 0, 'open_interest': 0, 'result': 'no', 'settlement_value': 0, 'can_close_early': True, 'expiration_value': '', 'category': '', 'risk_limit_cents': 0, 'strike_type': 'less', 'cap_strike': 18900, 'rules_primary': 'If the Nasdaq 100 index close value for October 23, 2024 is below 18900, then the market resolves to Yes.', 'rules_secondary': 'The market will expire at the sooner of the first 7:00 PM ET after the release of the data, or one week after October 23, 2024.\\n\\nPursuant to the Kalshi Rulebook, the Exchange has modified the Source Agency and Underlying for indices markets. See the rules for more information.'}\n"
     ]
    }
   ],
   "source": [
    "# Next, let's look at event level data by passing an event ticker to the get_event endpoint...\n",
    "\n",
    "event_ticker = markets_response['markets'][5]['event_ticker']\n",
    "event_params = {'event_ticker': event_ticker}\n",
    "event_response = exchange_client.get_event(**event_params)\n",
    "\n",
    "print('keys:', event_response.keys())\n",
    "print()\n",
    "print('event object:', event_response['event'])\n",
    "print()\n",
    "print('first market in event_response payload:', event_response['markets'][0])"
   ]
  },
  {
   "cell_type": "code",
   "execution_count": 55,
   "metadata": {},
   "outputs": [
    {
     "name": "stdout",
     "output_type": "stream",
     "text": [
      "keys: dict_keys(['series'])\n",
      "\n",
      "series object: {'ticker': 'NASDAQ100', 'frequency': 'daily', 'title': 'Nasdaq range', 'category': 'Financials', 'tags': ['Nasdaq'], 'settlement_sources': [{'url': 'https://www.google.com/finance/quote/NDX:INDEXNASDAQ?hl=en', 'name': 'For example, Google Finance'}], 'contract_url': 'https://kalshi-public-docs.s3.us-east-1.amazonaws.com/regulatory/product-certifications/NASDAQ100.pdf'}\n",
      "\n"
     ]
    }
   ],
   "source": [
    "# Next, let's look at series level data by passing a series ticker to the get_series endpoint! \n",
    "series_ticker = event_response['event']['series_ticker']\n",
    "series_params = {'series_ticker': series_ticker}\n",
    "series_response = exchange_client.get_series(**series_params)\n",
    "\n",
    "print('keys:', series_response.keys())\n",
    "print()\n",
    "print('series object:', series_response['series'])\n",
    "print()"
   ]
  },
  {
   "cell_type": "code",
   "execution_count": 1,
   "metadata": {},
   "outputs": [],
   "source": [
    "# Next let's look at the recent market history for a market (ENDPOINT DOESN'T WORK)\n",
    "# ticker = 'FED-25DEC-T4.25'\n",
    "\n",
    "# market_history_params = {'ticker': ticker,\n",
    "#                             'limit': 100,\n",
    "#                             'cursor': None,\n",
    "#                             'max_ts': None, # pass in unix_ts\n",
    "#                             'min_ts': round(time.time()-1000000) # passing a recent unix_ts\n",
    "#                                 }\n",
    "# market_history_response = exchange_client.get_market_history(**market_history_params)\n",
    "\n",
    "# print('keys:', market_history_response.keys())\n",
    "# print()\n",
    "# print('most recent market history object:', market_history_response['history'][-1])\n",
    "# print()\n",
    "\n",
    "# # and then also look at the most current view of the orderbook\n",
    "# market_history_params = {'ticker':ticker,\n",
    "#                             'depth': 30\n",
    "#                                 }\n",
    "# orderbook_response = exchange_client.get_orderbook(**market_history_params)\n",
    "\n",
    "# print('keys:', orderbook_response.keys())\n",
    "# print()\n",
    "# print('orderbook object:', orderbook_response)\n",
    "# print()"
   ]
  },
  {
   "cell_type": "code",
   "execution_count": 15,
   "metadata": {},
   "outputs": [
    {
     "data": {
      "text/plain": [
       "{'balance': 0}"
      ]
     },
     "execution_count": 15,
     "metadata": {},
     "output_type": "execute_result"
    }
   ],
   "source": [
    "# Now let's suppose we wanted to place a trade on one of these markets... \n",
    "# to do so, we would first want to check out available balance...\n",
    "\n",
    "current_balance = exchange_client.get_balance()\n",
    "current_balance"
   ]
  },
  {
   "cell_type": "code",
   "execution_count": 16,
   "metadata": {},
   "outputs": [
    {
     "data": {
      "text/plain": [
       "{'cursor': '', 'market_positions': [], 'event_positions': []}"
      ]
     },
     "execution_count": 16,
     "metadata": {},
     "output_type": "execute_result"
    }
   ],
   "source": [
    "# Now that you have some balance, you might want to see how your current positions are doing...\n",
    "\n",
    "positions_params = {'limit': None,\n",
    "                        'cursor': None,\n",
    "                        'settlement_status': None,\n",
    "                        'ticker': None,\n",
    "                        'event_ticker': None}\n",
    "\n",
    "current_position = exchange_client.get_positions(**positions_params)\n",
    "current_position"
   ]
  },
  {
   "cell_type": "code",
   "execution_count": 17,
   "metadata": {},
   "outputs": [
    {
     "data": {
      "text/plain": [
       "{'fills': [], 'cursor': ''}"
      ]
     },
     "execution_count": 17,
     "metadata": {},
     "output_type": "execute_result"
    }
   ],
   "source": [
    "# seems like some of your recent orders had been filled. To check on those we use the get_positions endpoint ...\n",
    "\n",
    "fills_params = {'ticker':None,\n",
    "                    'order_id':None,\n",
    "                    'min_ts':None,\n",
    "                    'max_ts':None,\n",
    "                    'limit': None,\n",
    "                    'cursor': None}\n",
    "\n",
    "fills = exchange_client.get_fills(**fills_params)\n",
    "fills"
   ]
  },
  {
   "cell_type": "code",
   "execution_count": 18,
   "metadata": {},
   "outputs": [
    {
     "data": {
      "text/plain": [
       "{'settlements': [], 'cursor': ''}"
      ]
     },
     "execution_count": 18,
     "metadata": {},
     "output_type": "execute_result"
    }
   ],
   "source": [
    "# you may even want to check on some of your recent positions settled...\n",
    "\n",
    "settlement_params = {'limit': None,\n",
    "                        'cursor': None}\n",
    "\n",
    "settlements = exchange_client.get_portfolio_settlements(**settlement_params)\n",
    "settlements"
   ]
  }
 ],
 "metadata": {
  "kernelspec": {
   "display_name": ".venv",
   "language": "python",
   "name": "python3"
  },
  "language_info": {
   "codemirror_mode": {
    "name": "ipython",
    "version": 3
   },
   "file_extension": ".py",
   "mimetype": "text/x-python",
   "name": "python",
   "nbconvert_exporter": "python",
   "pygments_lexer": "ipython3",
   "version": "3.13.0"
  },
  "orig_nbformat": 2
 },
 "nbformat": 4,
 "nbformat_minor": 2
}
